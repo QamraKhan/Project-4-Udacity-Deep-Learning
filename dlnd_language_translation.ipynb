{
 "cells": [
  {
   "cell_type": "markdown",
   "metadata": {
    "collapsed": true
   },
   "source": [
    "# Language Translation\n",
    "In this project, you’re going to take a peek into the realm of neural network machine translation.  You’ll be training a sequence to sequence model on a dataset of English and French sentences that can translate new sentences from English to French.\n",
    "## Get the Data\n",
    "Since translating the whole language of English to French will take lots of time to train, we have provided you with a small portion of the English corpus."
   ]
  },
  {
   "cell_type": "code",
   "execution_count": 47,
   "metadata": {
    "collapsed": true
   },
   "outputs": [],
   "source": [
    "\"\"\"\n",
    "DON'T MODIFY ANYTHING IN THIS CELL\n",
    "\"\"\"\n",
    "import helper\n",
    "import problem_unittests as tests\n",
    "\n",
    "source_path = 'data/small_vocab_en'\n",
    "target_path = 'data/small_vocab_fr'\n",
    "source_text = helper.load_data(source_path)\n",
    "target_text = helper.load_data(target_path)"
   ]
  },
  {
   "cell_type": "markdown",
   "metadata": {},
   "source": [
    "## Explore the Data\n",
    "Play around with view_sentence_range to view different parts of the data."
   ]
  },
  {
   "cell_type": "code",
   "execution_count": 48,
   "metadata": {
    "collapsed": false
   },
   "outputs": [
    {
     "name": "stdout",
     "output_type": "stream",
     "text": [
      "Dataset Stats\n",
      "Roughly the number of unique words: 227\n",
      "Number of sentences: 137861\n",
      "Average number of words in a sentence: 13.225277634719028\n",
      "\n",
      "English sentences 0 to 10:\n",
      "new jersey is sometimes quiet during autumn , and it is snowy in april .\n",
      "the united states is usually chilly during july , and it is usually freezing in november .\n",
      "california is usually quiet during march , and it is usually hot in june .\n",
      "the united states is sometimes mild during june , and it is cold in september .\n",
      "your least liked fruit is the grape , but my least liked is the apple .\n",
      "his favorite fruit is the orange , but my favorite is the grape .\n",
      "paris is relaxing during december , but it is usually chilly in july .\n",
      "new jersey is busy during spring , and it is never hot in march .\n",
      "our least liked fruit is the lemon , but my least liked is the grape .\n",
      "the united states is sometimes busy during january , and it is sometimes warm in november .\n",
      "\n",
      "French sentences 0 to 10:\n",
      "new jersey est parfois calme pendant l' automne , et il est neigeux en avril .\n",
      "les états-unis est généralement froid en juillet , et il gèle habituellement en novembre .\n",
      "california est généralement calme en mars , et il est généralement chaud en juin .\n",
      "les états-unis est parfois légère en juin , et il fait froid en septembre .\n",
      "votre moins aimé fruit est le raisin , mais mon moins aimé est la pomme .\n",
      "son fruit préféré est l'orange , mais mon préféré est le raisin .\n",
      "paris est relaxant en décembre , mais il est généralement froid en juillet .\n",
      "new jersey est occupé au printemps , et il est jamais chaude en mars .\n",
      "notre fruit est moins aimé le citron , mais mon moins aimé est le raisin .\n",
      "les états-unis est parfois occupé en janvier , et il est parfois chaud en novembre .\n"
     ]
    }
   ],
   "source": [
    "view_sentence_range = (0, 10)\n",
    "\n",
    "\"\"\"\n",
    "DON'T MODIFY ANYTHING IN THIS CELL\n",
    "\"\"\"\n",
    "import numpy as np\n",
    "\n",
    "print('Dataset Stats')\n",
    "print('Roughly the number of unique words: {}'.format(len({word: None for word in source_text.split()})))\n",
    "\n",
    "sentences = source_text.split('\\n')\n",
    "word_counts = [len(sentence.split()) for sentence in sentences]\n",
    "print('Number of sentences: {}'.format(len(sentences)))\n",
    "print('Average number of words in a sentence: {}'.format(np.average(word_counts)))\n",
    "\n",
    "print()\n",
    "print('English sentences {} to {}:'.format(*view_sentence_range))\n",
    "print('\\n'.join(source_text.split('\\n')[view_sentence_range[0]:view_sentence_range[1]]))\n",
    "print()\n",
    "print('French sentences {} to {}:'.format(*view_sentence_range))\n",
    "print('\\n'.join(target_text.split('\\n')[view_sentence_range[0]:view_sentence_range[1]]))"
   ]
  },
  {
   "cell_type": "code",
   "execution_count": 49,
   "metadata": {
    "collapsed": false
   },
   "outputs": [
    {
     "name": "stdout",
     "output_type": "stream",
     "text": [
      "source text\n",
      " new jersey is sometimes quiet during autumn , and it is snowy in april .\n",
      "the united states is usually chilly during july , and it is usually freezing in november .\n",
      "california is usually quiet during march , and it is usually hot in june .\n",
      "the united states is sometimes mild during june , and it is cold in september .\n",
      "your least liked fruit is the grape , but my least liked is the apple .\n",
      "his favorite fruit is the orange , but my favorite is the grape .\n",
      "paris is relaxing during december , but it is usually chilly in july .\n",
      "new jersey is busy during spring , and it is never hot in march .\n",
      "our least liked fruit is the lemon , but my least liked is the grape .\n",
      "the united states is sometimes busy during january , and it is sometimes warm in november .\n",
      "the lime is her least liked fruit , but the banana is my least liked .\n",
      "he saw a old yellow truck .\n",
      "india is rainy during june , and it is sometimes warm in november .\n",
      "that cat was my most loved animal .\n",
      "he dislikes grapefruit , limes , and lem\n",
      "target text\n",
      " new jersey est parfois calme pendant l' automne , et il est neigeux en avril .\n",
      "les états-unis est généralement froid en juillet , et il gèle habituellement en novembre .\n",
      "california est généralement calme en mars , et il est généralement chaud en juin .\n",
      "les états-unis est parfois légère en juin , et il fait froid en septembre .\n",
      "votre moins aimé fruit est le raisin , mais mon moins aimé est la pomme .\n",
      "son fruit préféré est l'orange , mais mon préféré est le raisin .\n",
      "paris est relaxant en décembre , mais il est généralement froid en juillet .\n",
      "new jersey est occupé au printemps , et il est jamais chaude en mars .\n",
      "notre fruit est moins aimé le citron , mais mon moins aimé est le raisin .\n",
      "les états-unis est parfois occupé en janvier , et il est parfois chaud en novembre .\n",
      "la chaux est son moins aimé des fruits , mais la banane est mon moins aimé.\n",
      "il a vu un vieux camion jaune .\n",
      "inde est pluvieux en juin , et il est parfois chaud en novembre .\n",
      "ce chat était mon animal le plus aimé .\n",
      "il n'aime\n"
     ]
    }
   ],
   "source": [
    "#do some testing\n",
    "print('source text\\n',source_text[0:1000])\n",
    "print('target text\\n',target_text[0:1000])\n"
   ]
  },
  {
   "cell_type": "markdown",
   "metadata": {},
   "source": [
    "## Implement Preprocessing Function\n",
    "### Text to Word Ids\n",
    "As you did with other RNNs, you must turn the text into a number so the computer can understand it. In the function `text_to_ids()`, you'll turn `source_text` and `target_text` from words to ids.  However, you need to add the `<EOS>` word id at the end of `target_text`.  This will help the neural network predict when the sentence should end.\n",
    "\n",
    "You can get the `<EOS>` word id by doing:\n",
    "```python\n",
    "target_vocab_to_int['<EOS>']\n",
    "```\n",
    "You can get other word ids using `source_vocab_to_int` and `target_vocab_to_int`."
   ]
  },
  {
   "cell_type": "code",
   "execution_count": 50,
   "metadata": {
    "collapsed": false
   },
   "outputs": [
    {
     "name": "stdout",
     "output_type": "stream",
     "text": [
      "Tests Passed\n"
     ]
    }
   ],
   "source": [
    "def extract_character_vocab(data):\n",
    "    special_words = ['<PAD>', '<UNK>', '<GO>',  '<EOS>']\n",
    "    set_words = set([character for line in data.split('\\n') for character in line])\n",
    "    int_to_vocab = {word_i: word for word_i, word in enumerate(special_words + list(set_words))}\n",
    "    vocab_to_int = {word: word_i for word_i, word in int_to_vocab.items()}\n",
    "    return int_to_vocab, vocab_to_int\n",
    "\n",
    "\n",
    "\n",
    "def text_to_ids(source_text, target_text, source_vocab_to_int, target_vocab_to_int):\n",
    "    \"\"\"\n",
    "    Convert source and target text to proper word ids\n",
    "    :param source_text: String that contains all the source text.\n",
    "    :param target_text: String that contains all the target text.\n",
    "    :param source_vocab_to_int: Dictionary to go from the source words to an id\n",
    "    :param target_vocab_to_int: Dictionary to go from the target words to an id\n",
    "    :return: A tuple of lists (source_id_text, target_id_text)\n",
    "    \"\"\"\n",
    "    # TODO: Implement Function\n",
    "    \n",
    "    #print('source',source_vocab_to_int.items())\n",
    "    #print('target',target_vocab_to_int.items())\n",
    "    #print('EOS_index',target_vocab_to_int['<EOS>'])  #EOS_index is 1\n",
    "    \n",
    "    \"\"\"source to int: no need to fo this part as letters not relevant in this case already have sourve_vocab_to_int and target_vocab_to_int\n",
    "    #source_int_to_letter, source_letter_to_int = extract_character_vocab(source_text)\n",
    "    #target_int_to_letter, target_letter_to_int = extract_character_vocab(target_text)\n",
    "    #print('source',source_vocab_to_int)\n",
    "    #print('target',target_vocab_to_int)\"\"\"\n",
    "    \n",
    "    #covert words to numbers\n",
    "    #source_id_text = [[source_vocab_to_int.get(word, source_vocab_to_int['<UNK>']) for word in line] for line in source_text.split('\\n')]\n",
    "    #target_id_text = [[target_vocab_to_int.get(word, target_vocab_to_int['<UNK>']) for word in line] + [target_vocab_to_int['<EOS>']] for line in target_text.split('\\n')] \n",
    "    \"\"\"\n",
    "    for line in source_text.split('\\n'):\n",
    "        print(line)\n",
    "        for word in line.split(' '):\n",
    "            print(word)\n",
    "    \"\"\"\n",
    "    source_id_text = [[source_vocab_to_int.get(word) for word in line.split()] for line in source_text.split('\\n')]\n",
    "    target_id_text = [[target_vocab_to_int.get(word) for word in line.split()] + [target_vocab_to_int['<EOS>']] for line in target_text.split('\\n')] \n",
    "\n",
    "    #print('source',source_id_text)\n",
    "    #print('target',target_id_text)\n",
    "    \n",
    "    #add EOS to the end of source and target text\n",
    "    #source_text+='<EOS>'\n",
    "    #target_text+='<EOS>'\n",
    "    #print('source text', source_text)\n",
    "    \n",
    "    \n",
    "    #return a tuple of lists\n",
    "    return source_id_text, target_id_text\n",
    "\n",
    "\"\"\"\n",
    "DON'T MODIFY ANYTHING IN THIS CELL THAT IS BELOW THIS LINE\n",
    "\"\"\"\n",
    "tests.test_text_to_ids(text_to_ids)"
   ]
  },
  {
   "cell_type": "markdown",
   "metadata": {},
   "source": [
    "### Preprocess all the data and save it\n",
    "Running the code cell below will preprocess all the data and save it to file."
   ]
  },
  {
   "cell_type": "code",
   "execution_count": 51,
   "metadata": {
    "collapsed": false
   },
   "outputs": [],
   "source": [
    "\"\"\"\n",
    "DON'T MODIFY ANYTHING IN THIS CELL\n",
    "\"\"\"\n",
    "helper.preprocess_and_save_data(source_path, target_path, text_to_ids)"
   ]
  },
  {
   "cell_type": "markdown",
   "metadata": {},
   "source": [
    "# Check Point\n",
    "This is your first checkpoint. If you ever decide to come back to this notebook or have to restart the notebook, you can start from here. The preprocessed data has been saved to disk."
   ]
  },
  {
   "cell_type": "code",
   "execution_count": 52,
   "metadata": {
    "collapsed": true
   },
   "outputs": [],
   "source": [
    "\"\"\"\n",
    "DON'T MODIFY ANYTHING IN THIS CELL\n",
    "\"\"\"\n",
    "import numpy as np\n",
    "import helper\n",
    "import problem_unittests as tests\n",
    "\n",
    "(source_int_text, target_int_text), (source_vocab_to_int, target_vocab_to_int), _ = helper.load_preprocess()"
   ]
  },
  {
   "cell_type": "markdown",
   "metadata": {},
   "source": [
    "### Check the Version of TensorFlow and Access to GPU\n",
    "This will check to make sure you have the correct version of TensorFlow and access to a GPU"
   ]
  },
  {
   "cell_type": "code",
   "execution_count": 53,
   "metadata": {
    "collapsed": false
   },
   "outputs": [
    {
     "name": "stdout",
     "output_type": "stream",
     "text": [
      "TensorFlow Version: 1.1.0\n"
     ]
    },
    {
     "name": "stderr",
     "output_type": "stream",
     "text": [
      "/Users/qamrakhan/anaconda3/envs/dlnd-tf-lab/lib/python3.5/site-packages/ipykernel/__main__.py:15: UserWarning: No GPU found. Please use a GPU to train your neural network.\n"
     ]
    }
   ],
   "source": [
    "\"\"\"\n",
    "DON'T MODIFY ANYTHING IN THIS CELL\n",
    "\"\"\"\n",
    "from distutils.version import LooseVersion\n",
    "import warnings\n",
    "import tensorflow as tf\n",
    "from tensorflow.python.layers.core import Dense\n",
    "\n",
    "# Check TensorFlow Version\n",
    "assert LooseVersion(tf.__version__) >= LooseVersion('1.1'), 'Please use TensorFlow version 1.1 or newer'\n",
    "print('TensorFlow Version: {}'.format(tf.__version__))\n",
    "\n",
    "# Check for a GPU\n",
    "if not tf.test.gpu_device_name():\n",
    "    warnings.warn('No GPU found. Please use a GPU to train your neural network.')\n",
    "else:\n",
    "    print('Default GPU Device: {}'.format(tf.test.gpu_device_name()))"
   ]
  },
  {
   "cell_type": "markdown",
   "metadata": {},
   "source": [
    "## Build the Neural Network\n",
    "You'll build the components necessary to build a Sequence-to-Sequence model by implementing the following functions below:\n",
    "- `model_inputs`\n",
    "- `process_decoder_input`\n",
    "- `encoding_layer`\n",
    "- `decoding_layer_train`\n",
    "- `decoding_layer_infer`\n",
    "- `decoding_layer`\n",
    "- `seq2seq_model`\n",
    "\n",
    "### Input\n",
    "Implement the `model_inputs()` function to create TF Placeholders for the Neural Network. It should create the following placeholders:\n",
    "\n",
    "- Input text placeholder named \"input\" using the TF Placeholder name parameter with rank 2.\n",
    "- Targets placeholder with rank 2.\n",
    "- Learning rate placeholder with rank 0.\n",
    "- Keep probability placeholder named \"keep_prob\" using the TF Placeholder name parameter with rank 0.\n",
    "- Target sequence length placeholder named \"target_sequence_length\" with rank 1\n",
    "- Max target sequence length tensor named \"max_target_len\" getting its value from applying tf.reduce_max on the target_sequence_length placeholder. Rank 0.\n",
    "- Source sequence length placeholder named \"source_sequence_length\" with rank 1\n",
    "\n",
    "Return the placeholders in the following the tuple (input, targets, learning rate, keep probability, target sequence length, max target sequence length, source sequence length)"
   ]
  },
  {
   "cell_type": "code",
   "execution_count": 54,
   "metadata": {
    "collapsed": false
   },
   "outputs": [
    {
     "name": "stdout",
     "output_type": "stream",
     "text": [
      "Tests Passed\n"
     ]
    }
   ],
   "source": [
    "def model_inputs():\n",
    "    \"\"\"\n",
    "    Create TF Placeholders for input, targets, learning rate, and lengths of source and target sequences.\n",
    "    :return: Tuple (input, targets, learning rate, keep probability, target sequence length,\n",
    "    max target sequence length, source sequence length)\n",
    "    \"\"\"\n",
    "    # TODO: Implement Function\n",
    "    input=tf.placeholder(tf.int32,[None, None],name='input')\n",
    "    targets=tf.placeholder(tf.int32,[None,None],name='targets')\n",
    "    learning_rate=tf.placeholder(tf.float32,shape=[],name='learning_rate')\n",
    "    keep_prob=tf.placeholder(tf.float32,shape=[],name='keep_prob')\n",
    "    target_sequence_length=tf.placeholder(tf.int32,[None,],name='target_sequence_length')\n",
    "    max_target_sequence_length=tf.reduce_max(target_sequence_length, name='max_target_len')\n",
    "    #max_target_sequence_length = tf.reduce_max(target_sequence_length, name='max_target_len')\n",
    "    source_sequence_length=tf.placeholder(tf.int32,[None,],name='source_sequence_length')\n",
    "    return (input, targets, learning_rate,keep_prob,target_sequence_length,max_target_sequence_length,source_sequence_length )\n",
    "\n",
    "\n",
    "\"\"\"\n",
    "DON'T MODIFY ANYTHING IN THIS CELL THAT IS BELOW THIS LINE\n",
    "\"\"\"\n",
    "tests.test_model_inputs(model_inputs)"
   ]
  },
  {
   "cell_type": "markdown",
   "metadata": {},
   "source": [
    "### Process Decoder Input\n",
    "Implement `process_decoder_input` by removing the last word id from each batch in `target_data` and concat the GO ID to the begining of each batch."
   ]
  },
  {
   "cell_type": "code",
   "execution_count": 55,
   "metadata": {
    "collapsed": false
   },
   "outputs": [
    {
     "name": "stdout",
     "output_type": "stream",
     "text": [
      "Tests Passed\n"
     ]
    }
   ],
   "source": [
    "def process_decoder_input(target_data, target_vocab_to_int, batch_size):\n",
    "    \"\"\"\n",
    "    Preprocess target data for encoding\n",
    "    :param target_data: Target Placehoder\n",
    "    :param target_vocab_to_int: Dictionary to go from the target words to an id\n",
    "    :param batch_size: Batch Size\n",
    "    :return: Preprocessed target data\n",
    "    \"\"\"\n",
    "    # TODO: Implement Function\n",
    "    #print('target_data', target_data)\n",
    "    #print(target_vocab_to_int.items())\n",
    "    #print(batch_size)\n",
    "    #remove the last word, as decoder only goes to lastword-1\n",
    "    #Remove the last word id from each batch and concat the <GO> to the begining of each batch\n",
    "    ending=tf.strided_slice(target_data,[0,0],[batch_size,-1],[1,1])\n",
    "    #concatenate last word to the front\n",
    "    preprocessed_target=tf.concat([tf.fill([batch_size,1],target_vocab_to_int['<GO>']),ending],1)\n",
    "    return preprocessed_target\n",
    "\n",
    "\"\"\"\n",
    "DON'T MODIFY ANYTHING IN THIS CELL THAT IS BELOW THIS LINE\n",
    "\"\"\"\n",
    "tests.test_process_encoding_input(process_decoder_input)"
   ]
  },
  {
   "cell_type": "markdown",
   "metadata": {},
   "source": [
    "### Encoding\n",
    "Implement `encoding_layer()` to create a Encoder RNN layer:\n",
    " * Embed the encoder input using [`tf.contrib.layers.embed_sequence`](https://www.tensorflow.org/api_docs/python/tf/contrib/layers/embed_sequence)\n",
    " * Construct a [stacked](https://github.com/tensorflow/tensorflow/blob/6947f65a374ebf29e74bb71e36fd82760056d82c/tensorflow/docs_src/tutorials/recurrent.md#stacking-multiple-lstms) [`tf.contrib.rnn.LSTMCell`](https://www.tensorflow.org/api_docs/python/tf/contrib/rnn/LSTMCell) wrapped in a [`tf.contrib.rnn.DropoutWrapper`](https://www.tensorflow.org/api_docs/python/tf/contrib/rnn/DropoutWrapper)\n",
    " * Pass cell and embedded input to [`tf.nn.dynamic_rnn()`](https://www.tensorflow.org/api_docs/python/tf/nn/dynamic_rnn)"
   ]
  },
  {
   "cell_type": "code",
   "execution_count": 56,
   "metadata": {
    "collapsed": false
   },
   "outputs": [],
   "source": [
    "    #RNN cell\n",
    "def make_cell(rnn_size):\n",
    "        enc_cell=tf.contrib.rnn.LSTMCell(rnn_size, initializer=\n",
    "                                         tf.random_uniform_initializer(-0.1,0.1,seed=2))\n",
    "        return enc_cell"
   ]
  },
  {
   "cell_type": "code",
   "execution_count": 57,
   "metadata": {
    "collapsed": false,
    "scrolled": false
   },
   "outputs": [
    {
     "name": "stdout",
     "output_type": "stream",
     "text": [
      "Tests Passed\n"
     ]
    }
   ],
   "source": [
    "from imp import reload\n",
    "reload(tests)\n",
    "\n",
    "def encoding_layer(rnn_inputs, rnn_size, num_layers, keep_prob, \n",
    "                   source_sequence_length, source_vocab_size, \n",
    "                   encoding_embedding_size):\n",
    "    \"\"\"\n",
    "    Create encoding layer\n",
    "    :param rnn_inputs: Inputs for the RNN\n",
    "    :param rnn_size: RNN Size\n",
    "    :param num_layers: Number of layers\n",
    "    :param keep_prob: Dropout keep probability\n",
    "    :param source_sequence_length: a list of the lengths of each sequence in the batch\n",
    "    :param source_vocab_size: vocabulary size of source data\n",
    "    :param encoding_embedding_size: embedding size of source data\n",
    "    :return: tuple (RNN output, RNN state)\n",
    "    \"\"\"\n",
    "    # TODO: Implement Function\n",
    "    #first step is actually create the encoder\n",
    "    #create encoder, then passed embedded data to the encoder\n",
    "    #passing embedded inputs into a stack of RNNs. Save the RNN state and ignore the output.\n",
    "    \n",
    "    #encoder embedding\n",
    "    #embedding input\n",
    "    enc_embed_input=tf.contrib.layers.embed_sequence(rnn_inputs, source_vocab_size,\n",
    "                                                     encoding_embedding_size)\n",
    "    \n",
    "    \"\"\"#RNN cell\n",
    "    def make_cell(rnn_size):\n",
    "        enc_cell=tf.contrib.rnn.LSTMCell(rnn_size, initializer=\n",
    "                                         tf.random_uniform_initializer(-0.1,0.1,seed=2))\n",
    "        return enc_cell\"\"\"\n",
    "    \n",
    "    #create encoder\n",
    "    enc_cell=tf.contrib.rnn.MultiRNNCell([make_cell(rnn_size) for layer_i in range(num_layers)])\n",
    "    \n",
    "    #passing embedded inputs into a stack of RNNs. Save the RNN state and ignore the output.\n",
    "    enc_output,enc_state=tf.nn.dynamic_rnn(enc_cell, enc_embed_input,sequence_length=\n",
    "                                            source_sequence_length, dtype=tf.float32)\n",
    "    \n",
    "    return enc_output,enc_state\n",
    "\n",
    "\"\"\"\n",
    "DON'T MODIFY ANYTHING IN THIS CELL THAT IS BELOW THIS LINE\n",
    "\"\"\"\n",
    "tests.test_encoding_layer(encoding_layer)"
   ]
  },
  {
   "cell_type": "markdown",
   "metadata": {},
   "source": [
    "### Decoding - Training\n",
    "Create a training decoding layer:\n",
    "* Create a [`tf.contrib.seq2seq.TrainingHelper`](https://www.tensorflow.org/api_docs/python/tf/contrib/seq2seq/TrainingHelper) \n",
    "* Create a [`tf.contrib.seq2seq.BasicDecoder`](https://www.tensorflow.org/api_docs/python/tf/contrib/seq2seq/BasicDecoder)\n",
    "* Obtain the decoder outputs from [`tf.contrib.seq2seq.dynamic_decode`](https://www.tensorflow.org/api_docs/python/tf/contrib/seq2seq/dynamic_decode)"
   ]
  },
  {
   "cell_type": "code",
   "execution_count": 58,
   "metadata": {
    "collapsed": false
   },
   "outputs": [
    {
     "name": "stdout",
     "output_type": "stream",
     "text": [
      "Tests Passed\n"
     ]
    }
   ],
   "source": [
    "\n",
    "def decoding_layer_train(encoder_state, dec_cell, dec_embed_input, \n",
    "                         target_sequence_length, max_summary_length, \n",
    "                         output_layer, keep_prob):\n",
    "    \"\"\"\n",
    "    Create a decoding layer for training\n",
    "    :param encoder_state: Encoder State\n",
    "    :param dec_cell: Decoder RNN Cell\n",
    "    :param dec_embed_input: Decoder embedded input\n",
    "    :param target_sequence_length: The lengths of each sequence in the target batch\n",
    "    :param max_summary_length: The length of the longest sequence in the batch\n",
    "    :param output_layer: Function to apply the output layer\n",
    "    :param keep_prob: Dropout keep probability\n",
    "    :return: BasicDecoderOutput containing training logits and sample_id\n",
    "    \"\"\"\n",
    "    # TODO: Implement Function\n",
    "    \n",
    "    #2 decoders - one for training, one for inference. Decoders share their parameters so the \n",
    "    #weights and biases are set during the training phase and can be used to deplot the model.\n",
    "    #deal with the training decoder first\n",
    "    \n",
    "    ##1. construct a decoder cell: ALREADY AN INPUT!\n",
    "    #dec_cell=tf.contrib.rnn.MultiRNNCell([make_cell(rnn_size) for layer_i in range(num_layers)])\n",
    "    \n",
    "\n",
    "    #2. construct dense layer to translate decoder output at each time stEp into a choice from the target vocab\n",
    "    #output_layer: ALREADY AN INPUT!!!\n",
    "    #output_layer=Dense(target_vocab_size,kernel_initializer=\n",
    "    #                    tf.truncated_normal_initializer(mean=0.0,stddev=0.1))\n",
    "    \n",
    "    \n",
    "    #3. setup the training decoder:\n",
    "    #with tf.variable_scope(\"decode\"):\n",
    "    #helper for training process. used by BasicDecoder to read inputs\n",
    "    training_helper=tf.contrib.seq2seq.TrainingHelper(inputs=dec_embed_input, \n",
    "                                                          sequence_length=target_sequence_length, time_major=False)\n",
    "    \n",
    "    #basic decoder\n",
    "    training_decoder=tf.contrib.seq2seq.BasicDecoder(dec_cell, training_helper, \n",
    "                                                         encoder_state,output_layer)\n",
    "    #perform dynmaic decoding using the decoder \n",
    "    #target sequence fed into the training decoder at each time step\n",
    "    training_decoder_output=tf.contrib.seq2seq.dynamic_decode(training_decoder, \n",
    "                                                                  impute_finished=True,maximum_iterations=max_summary_length)[0]\n",
    "    return training_decoder_output\n",
    "\n",
    "\n",
    "\n",
    "\"\"\"\n",
    "DON'T MODIFY ANYTHING IN THIS CELL THAT IS BELOW THIS LINE\n",
    "\"\"\"\n",
    "tests.test_decoding_layer_train(decoding_layer_train)"
   ]
  },
  {
   "cell_type": "markdown",
   "metadata": {},
   "source": [
    "### Decoding - Inference\n",
    "Create inference decoder:\n",
    "* Create a [`tf.contrib.seq2seq.GreedyEmbeddingHelper`](https://www.tensorflow.org/api_docs/python/tf/contrib/seq2seq/GreedyEmbeddingHelper)\n",
    "* Create a [`tf.contrib.seq2seq.BasicDecoder`](https://www.tensorflow.org/api_docs/python/tf/contrib/seq2seq/BasicDecoder)\n",
    "* Obtain the decoder outputs from [`tf.contrib.seq2seq.dynamic_decode`](https://www.tensorflow.org/api_docs/python/tf/contrib/seq2seq/dynamic_decode)"
   ]
  },
  {
   "cell_type": "code",
   "execution_count": 59,
   "metadata": {
    "collapsed": false,
    "scrolled": true
   },
   "outputs": [
    {
     "name": "stdout",
     "output_type": "stream",
     "text": [
      "Tests Passed\n"
     ]
    }
   ],
   "source": [
    "def decoding_layer_infer(encoder_state, dec_cell, dec_embeddings, start_of_sequence_id,\n",
    "                         end_of_sequence_id, max_target_sequence_length,\n",
    "                         vocab_size, output_layer, batch_size, keep_prob):\n",
    "    \"\"\"\n",
    "    Create a decoding layer for inference\n",
    "    :param encoder_state: Encoder state\n",
    "    :param dec_cell: Decoder RNN Cell\n",
    "    :param dec_embeddings: Decoder embeddings\n",
    "    :param start_of_sequence_id: GO ID\n",
    "    :param end_of_sequence_id: EOS Id\n",
    "    :param max_target_sequence_length: Maximum length of target sequences\n",
    "    :param vocab_size: Size of decoder/target vocabulary\n",
    "    :param decoding_scope: TenorFlow Variable Scope for decoding\n",
    "    :param output_layer: Function to apply the output layer\n",
    "    :param batch_size: Batch size\n",
    "    :param keep_prob: Dropout keep probability\n",
    "    :return: BasicDecoderOutput containing inference logits and sample_id\n",
    "    \"\"\"\n",
    "    # TODO: Implement Function\n",
    "    #inference decoder: what we use when we deploy our model to the wild.\n",
    "\n",
    "    #print(start_of_sequence_id)\n",
    "    #with tf.variable_scope(decoding_scope, reuse=True):\n",
    "    #with tf.variable_scope(\"decode\", reuse=True):\n",
    "    start_tokens=tf.tile(tf.constant([start_of_sequence_id], dtype=tf.int32),[batch_size] , \n",
    "                             name='start_tokens')\n",
    "    \n",
    "    \n",
    "    #helper for inference process\n",
    "    inference_helper=tf.contrib.seq2seq.GreedyEmbeddingHelper(dec_embeddings, start_tokens,\n",
    "                                                                end_of_sequence_id)\n",
    "    \n",
    "    #basic decoder\n",
    "    inference_decoder=tf.contrib.seq2seq.BasicDecoder(dec_cell, inference_helper,\n",
    "                                                      encoder_state, output_layer)\n",
    "    \n",
    "    #dynamic decoding using the decoder\n",
    "    inference_decoder_output=tf.contrib.seq2seq.dynamic_decode(inference_decoder, impute_finished=True,\n",
    "                                                               maximum_iterations=max_target_sequence_length)[0]\n",
    "    \n",
    "    return inference_decoder_output\n",
    "\n",
    "\n",
    "\n",
    "\"\"\"\n",
    "DON'T MODIFY ANYTHING IN THIS CELL THAT IS BELOW THIS LINE\n",
    "\"\"\"\n",
    "tests.test_decoding_layer_infer(decoding_layer_infer)"
   ]
  },
  {
   "cell_type": "markdown",
   "metadata": {},
   "source": [
    "### Build the Decoding Layer\n",
    "Implement `decoding_layer()` to create a Decoder RNN layer.\n",
    "\n",
    "* Embed the target sequences\n",
    "* Construct the decoder LSTM cell (just like you constructed the encoder cell above)\n",
    "* Create an output layer to map the outputs of the decoder to the elements of our vocabulary\n",
    "* Use the your `decoding_layer_train(encoder_state, dec_cell, dec_embed_input, target_sequence_length, max_target_sequence_length, output_layer, keep_prob)` function to get the training logits.\n",
    "* Use your `decoding_layer_infer(encoder_state, dec_cell, dec_embeddings, start_of_sequence_id, end_of_sequence_id, max_target_sequence_length, vocab_size, output_layer, batch_size, keep_prob)` function to get the inference logits.\n",
    "\n",
    "Note: You'll need to use [tf.variable_scope](https://www.tensorflow.org/api_docs/python/tf/variable_scope) to share variables between training and inference."
   ]
  },
  {
   "cell_type": "code",
   "execution_count": 60,
   "metadata": {
    "collapsed": false
   },
   "outputs": [
    {
     "name": "stdout",
     "output_type": "stream",
     "text": [
      "Tests Passed\n"
     ]
    }
   ],
   "source": [
    "def decoding_layer(dec_input, encoder_state,\n",
    "                   target_sequence_length, max_target_sequence_length,\n",
    "                   rnn_size,\n",
    "                   num_layers, target_vocab_to_int, target_vocab_size,\n",
    "                   batch_size, keep_prob, decoding_embedding_size):\n",
    "    \"\"\"\n",
    "    Create decoding layer\n",
    "    :param dec_input: Decoder input\n",
    "    :param encoder_state: Encoder state\n",
    "    :param target_sequence_length: The lengths of each sequence in the target batch\n",
    "    :param max_target_sequence_length: Maximum length of target sequences\n",
    "    :param rnn_size: RNN Size\n",
    "    :param num_layers: Number of layers\n",
    "    :param target_vocab_to_int: Dictionary to go from the target words to an id\n",
    "    :param target_vocab_size: Size of target vocabulary\n",
    "    :param batch_size: The size of the batch\n",
    "    :param keep_prob: Dropout keep probability\n",
    "    :param decoding_embedding_size: Decoding embedding size\n",
    "    :return: Tuple of (Training BasicDecoderOutput, Inference BasicDecoderOutput)\n",
    "    \"\"\"\n",
    "    # TODO: Implement Function\n",
    "    # we hand our encoder hidden state to both the training and inference decoders and have it\n",
    "    #process the output. tf will handle the logic for us as long as the appropriate methods are\n",
    "    #implemented.\n",
    "    \n",
    "    #embed the target sequences\n",
    "    dec_embeddings=tf.Variable(tf.random_uniform([target_vocab_size,decoding_embedding_size]))\n",
    "    dec_embed_input=tf.nn.embedding_lookup(dec_embeddings, dec_input)\n",
    "    \n",
    "    \n",
    "    #construct decoder lstm CELL\n",
    "    dec_cell=tf.contrib.rnn.MultiRNNCell([make_cell(rnn_size) for layer_i in range(num_layers)])\n",
    "    \n",
    "    #output layer to map outputs of decoder to elements of vocabulary\n",
    "    #dense layer to translate the decoder's output at each time\n",
    "    output_layer=Dense(target_vocab_size, kernel_initializer=tf.truncated_normal_initializer\n",
    "                       (mean=0.0, stddev=0.1))\n",
    "    \n",
    "    \n",
    "    #use decoding_layer_train to get the training logit\n",
    "    with tf.variable_scope(\"decode\"):\n",
    "        trainingBasicDecoderOutput=decoding_layer_train(encoder_state, dec_cell, dec_embed_input, \n",
    "                         target_sequence_length, max_target_sequence_length, \n",
    "                         output_layer, keep_prob)\n",
    "    \n",
    "    #use decoding_layer_infer to get the inference logits.\n",
    "    with tf.variable_scope(\"decode\", reuse=True):\n",
    "        #inferenceBasicDecoderOutput=decoding_layer_infer(encoder_state, dec_cell, dec_embeddings, start_of_sequence_id,\n",
    "        #                 end_of_sequence_id, max_target_sequence_length,\n",
    "        #                 vocab_size, output_layer, batch_size, keep_prob)\n",
    "        inferenceBasicDecoderOutput=decoding_layer_infer(encoder_state, dec_cell, dec_embeddings, target_vocab_to_int['<GO>'],\n",
    "                         target_vocab_to_int['<EOS>'], max_target_sequence_length,\n",
    "                         target_vocab_size, output_layer, batch_size, keep_prob)\n",
    "    \n",
    "    return trainingBasicDecoderOutput, inferenceBasicDecoderOutput\n",
    "\n",
    "\n",
    "\n",
    "\"\"\"\n",
    "DON'T MODIFY ANYTHING IN THIS CELL THAT IS BELOW THIS LINE\n",
    "\"\"\"\n",
    "tests.test_decoding_layer(decoding_layer)"
   ]
  },
  {
   "cell_type": "markdown",
   "metadata": {},
   "source": [
    "### Build the Neural Network\n",
    "Apply the functions you implemented above to:\n",
    "\n",
    "- Encode the input using your `encoding_layer(rnn_inputs, rnn_size, num_layers, keep_prob,  source_sequence_length, source_vocab_size, encoding_embedding_size)`.\n",
    "- Process target data using your `process_decoder_input(target_data, target_vocab_to_int, batch_size)` function.\n",
    "- Decode the encoded input using your `decoding_layer(dec_input, enc_state, target_sequence_length, max_target_sentence_length, rnn_size, num_layers, target_vocab_to_int, target_vocab_size, batch_size, keep_prob, dec_embedding_size)` function."
   ]
  },
  {
   "cell_type": "code",
   "execution_count": 61,
   "metadata": {
    "collapsed": false
   },
   "outputs": [
    {
     "name": "stdout",
     "output_type": "stream",
     "text": [
      "Tests Passed\n"
     ]
    }
   ],
   "source": [
    "def seq2seq_model(input_data, target_data, keep_prob, batch_size,\n",
    "                  source_sequence_length, target_sequence_length,\n",
    "                  max_target_sentence_length,\n",
    "                  source_vocab_size, target_vocab_size,\n",
    "                  enc_embedding_size, dec_embedding_size,\n",
    "                  rnn_size, num_layers, target_vocab_to_int):\n",
    "    \"\"\"\n",
    "    Build the Sequence-to-Sequence part of the neural network\n",
    "    :param input_data: Input placeholder\n",
    "    :param target_data: Target placeholder\n",
    "    :param keep_prob: Dropout keep probability placeholder\n",
    "    :param batch_size: Batch Size\n",
    "    :param source_sequence_length: Sequence Lengths of source sequences in the batch\n",
    "    :param target_sequence_length: Sequence Lengths of target sequences in the batch\n",
    "    :param source_vocab_size: Source vocabulary size\n",
    "    :param target_vocab_size: Target vocabulary size\n",
    "    :param enc_embedding_size: Decoder embedding size\n",
    "    :param dec_embedding_size: Encoder embedding size\n",
    "    :param rnn_size: RNN Size\n",
    "    :param num_layers: Number of layers\n",
    "    :param target_vocab_to_int: Dictionary to go from the target words to an id\n",
    "    :return: Tuple of (Training BasicDecoderOutput, Inference BasicDecoderOutput)\n",
    "    \"\"\"\n",
    "    # TODO: Implement Function\n",
    "    #hookup endcoder and decoder using previous methods\n",
    "    \n",
    "    #pass input data through the encoder. we will ignore the encoder output and just use the hidden state\n",
    "    #encode input using encoding_layer\n",
    "    _, enc_state=encoding_layer(input_data, rnn_size, num_layers, keep_prob,\n",
    "                                source_sequence_length, source_vocab_size, enc_embedding_size)\n",
    "    \n",
    "    \n",
    "    #prepare the target sequence we feed into the training decoder\n",
    "    #process target data using process_decoder_input\n",
    "    dec_input=process_decoder_input(target_data, target_vocab_to_int, batch_size)\n",
    "    \n",
    "    #pass encoder state and decoder inputs to the decoders\n",
    "    #decode the encoded input using decoding_layer\n",
    "    #decoding_layer(dec_input, enc_state, target_sequence_length, max_target_sentence_length, rnn_size, num_layers,\n",
    "    #target_vocab_to_int, target_vocab_size, batch_size, keep_prob, dec_embedding_size)\n",
    "    training_decoder_output, inference_decoder_output=decoding_layer(dec_input, enc_state,target_sequence_length, \n",
    "                max_target_sentence_length,rnn_size,num_layers,target_vocab_to_int, target_vocab_size, \n",
    "                                                                     batch_size, keep_prob, dec_embedding_size)\n",
    "    \n",
    "    return training_decoder_output, inference_decoder_output\n",
    "\n",
    "\n",
    "\"\"\"\n",
    "DON'T MODIFY ANYTHING IN THIS CELL THAT IS BELOW THIS LINE\n",
    "\"\"\"\n",
    "tests.test_seq2seq_model(seq2seq_model)"
   ]
  },
  {
   "cell_type": "markdown",
   "metadata": {},
   "source": [
    "## Neural Network Training\n",
    "### Hyperparameters\n",
    "Tune the following parameters:\n",
    "\n",
    "- Set `epochs` to the number of epochs.\n",
    "- Set `batch_size` to the batch size.\n",
    "- Set `rnn_size` to the size of the RNNs.\n",
    "- Set `num_layers` to the number of layers.\n",
    "- Set `encoding_embedding_size` to the size of the embedding for the encoder.\n",
    "- Set `decoding_embedding_size` to the size of the embedding for the decoder.\n",
    "- Set `learning_rate` to the learning rate.\n",
    "- Set `keep_probability` to the Dropout keep probability\n",
    "- Set `display_step` to state how many steps between each debug output statement"
   ]
  },
  {
   "cell_type": "code",
   "execution_count": 62,
   "metadata": {
    "collapsed": true
   },
   "outputs": [],
   "source": [
    "# Number of Epochs\n",
    "epochs = 5\n",
    "# Batch Size\n",
    "batch_size = 512\n",
    "# RNN Size\n",
    "rnn_size = 128\n",
    "# Number of Layers\n",
    "num_layers = 2\n",
    "# Embedding Size\n",
    "encoding_embedding_size = 256\n",
    "decoding_embedding_size = 256\n",
    "# Learning Rate\n",
    "learning_rate = 0.01\n",
    "# Dropout Keep Probability\n",
    "keep_probability = 0.9\n",
    "display_step = 10"
   ]
  },
  {
   "cell_type": "markdown",
   "metadata": {},
   "source": [
    "### Build the Graph\n",
    "Build the graph using the neural network you implemented."
   ]
  },
  {
   "cell_type": "code",
   "execution_count": 63,
   "metadata": {
    "collapsed": false
   },
   "outputs": [],
   "source": [
    "\"\"\"\n",
    "DON'T MODIFY ANYTHING IN THIS CELL\n",
    "\"\"\"\n",
    "save_path = 'checkpoints/dev'\n",
    "(source_int_text, target_int_text), (source_vocab_to_int, target_vocab_to_int), _ = helper.load_preprocess()\n",
    "max_target_sentence_length = max([len(sentence) for sentence in source_int_text])\n",
    "\n",
    "train_graph = tf.Graph()\n",
    "with train_graph.as_default():\n",
    "    input_data, targets, lr, keep_prob, target_sequence_length, max_target_sequence_length, source_sequence_length = model_inputs()\n",
    "\n",
    "    #sequence_length = tf.placeholder_with_default(max_target_sentence_length, None, name='sequence_length')\n",
    "    input_shape = tf.shape(input_data)\n",
    "\n",
    "    train_logits, inference_logits = seq2seq_model(tf.reverse(input_data, [-1]),\n",
    "                                                   targets,\n",
    "                                                   keep_prob,\n",
    "                                                   batch_size,\n",
    "                                                   source_sequence_length,\n",
    "                                                   target_sequence_length,\n",
    "                                                   max_target_sequence_length,\n",
    "                                                   len(source_vocab_to_int),\n",
    "                                                   len(target_vocab_to_int),\n",
    "                                                   encoding_embedding_size,\n",
    "                                                   decoding_embedding_size,\n",
    "                                                   rnn_size,\n",
    "                                                   num_layers,\n",
    "                                                   target_vocab_to_int)\n",
    "\n",
    "\n",
    "    training_logits = tf.identity(train_logits.rnn_output, name='logits')\n",
    "    inference_logits = tf.identity(inference_logits.sample_id, name='predictions')\n",
    "\n",
    "    masks = tf.sequence_mask(target_sequence_length, max_target_sequence_length, dtype=tf.float32, name='masks')\n",
    "\n",
    "    with tf.name_scope(\"optimization\"):\n",
    "        # Loss function\n",
    "        cost = tf.contrib.seq2seq.sequence_loss(\n",
    "            training_logits,\n",
    "            targets,\n",
    "            masks)\n",
    "\n",
    "        # Optimizer\n",
    "        optimizer = tf.train.AdamOptimizer(lr)\n",
    "\n",
    "        # Gradient Clipping\n",
    "        gradients = optimizer.compute_gradients(cost)\n",
    "        capped_gradients = [(tf.clip_by_value(grad, -1., 1.), var) for grad, var in gradients if grad is not None]\n",
    "        train_op = optimizer.apply_gradients(capped_gradients)\n"
   ]
  },
  {
   "cell_type": "markdown",
   "metadata": {},
   "source": [
    "Batch and pad the source and target sequences"
   ]
  },
  {
   "cell_type": "code",
   "execution_count": 64,
   "metadata": {
    "collapsed": true
   },
   "outputs": [],
   "source": [
    "\"\"\"\n",
    "DON'T MODIFY ANYTHING IN THIS CELL\n",
    "\"\"\"\n",
    "def pad_sentence_batch(sentence_batch, pad_int):\n",
    "    \"\"\"Pad sentences with <PAD> so that each sentence of a batch has the same length\"\"\"\n",
    "    max_sentence = max([len(sentence) for sentence in sentence_batch])\n",
    "    return [sentence + [pad_int] * (max_sentence - len(sentence)) for sentence in sentence_batch]\n",
    "\n",
    "\n",
    "def get_batches(sources, targets, batch_size, source_pad_int, target_pad_int):\n",
    "    \"\"\"Batch targets, sources, and the lengths of their sentences together\"\"\"\n",
    "    for batch_i in range(0, len(sources)//batch_size):\n",
    "        start_i = batch_i * batch_size\n",
    "\n",
    "        # Slice the right amount for the batch\n",
    "        sources_batch = sources[start_i:start_i + batch_size]\n",
    "        targets_batch = targets[start_i:start_i + batch_size]\n",
    "\n",
    "        # Pad\n",
    "        pad_sources_batch = np.array(pad_sentence_batch(sources_batch, source_pad_int))\n",
    "        pad_targets_batch = np.array(pad_sentence_batch(targets_batch, target_pad_int))\n",
    "\n",
    "        # Need the lengths for the _lengths parameters\n",
    "        pad_targets_lengths = []\n",
    "        for target in pad_targets_batch:\n",
    "            pad_targets_lengths.append(len(target))\n",
    "\n",
    "        pad_source_lengths = []\n",
    "        for source in pad_sources_batch:\n",
    "            pad_source_lengths.append(len(source))\n",
    "\n",
    "        yield pad_sources_batch, pad_targets_batch, pad_source_lengths, pad_targets_lengths\n"
   ]
  },
  {
   "cell_type": "markdown",
   "metadata": {},
   "source": [
    "### Train\n",
    "Train the neural network on the preprocessed data. If you have a hard time getting a good loss, check the forms to see if anyone is having the same problem."
   ]
  },
  {
   "cell_type": "code",
   "execution_count": 65,
   "metadata": {
    "collapsed": false,
    "scrolled": true
   },
   "outputs": [
    {
     "name": "stdout",
     "output_type": "stream",
     "text": [
      "Epoch   0 Batch   10/269 - Train Accuracy: 0.3168, Validation Accuracy: 0.3819, Loss: 3.0796\n",
      "Epoch   0 Batch   20/269 - Train Accuracy: 0.3850, Validation Accuracy: 0.4406, Loss: 2.6259\n",
      "Epoch   0 Batch   30/269 - Train Accuracy: 0.4543, Validation Accuracy: 0.4838, Loss: 2.2908\n",
      "Epoch   0 Batch   40/269 - Train Accuracy: 0.4670, Validation Accuracy: 0.5039, Loss: 2.1332\n",
      "Epoch   0 Batch   50/269 - Train Accuracy: 0.4920, Validation Accuracy: 0.5319, Loss: 1.8732\n",
      "Epoch   0 Batch   60/269 - Train Accuracy: 0.5393, Validation Accuracy: 0.5566, Loss: 1.5654\n",
      "Epoch   0 Batch   70/269 - Train Accuracy: 0.5555, Validation Accuracy: 0.5526, Loss: 1.3793\n",
      "Epoch   0 Batch   80/269 - Train Accuracy: 0.5670, Validation Accuracy: 0.5653, Loss: 1.1889\n",
      "Epoch   0 Batch   90/269 - Train Accuracy: 0.5338, Validation Accuracy: 0.5878, Loss: 1.1331\n",
      "Epoch   0 Batch  100/269 - Train Accuracy: 0.5749, Validation Accuracy: 0.5911, Loss: 0.9182\n",
      "Epoch   0 Batch  110/269 - Train Accuracy: 0.5882, Validation Accuracy: 0.6032, Loss: 0.8468\n",
      "Epoch   0 Batch  120/269 - Train Accuracy: 0.5741, Validation Accuracy: 0.6054, Loss: 0.8308\n",
      "Epoch   0 Batch  130/269 - Train Accuracy: 0.5687, Validation Accuracy: 0.6087, Loss: 0.7812\n",
      "Epoch   0 Batch  140/269 - Train Accuracy: 0.6060, Validation Accuracy: 0.6254, Loss: 0.7063\n",
      "Epoch   0 Batch  150/269 - Train Accuracy: 0.6255, Validation Accuracy: 0.6353, Loss: 0.6579\n",
      "Epoch   0 Batch  160/269 - Train Accuracy: 0.6205, Validation Accuracy: 0.6383, Loss: 0.6169\n",
      "Epoch   0 Batch  170/269 - Train Accuracy: 0.6309, Validation Accuracy: 0.6396, Loss: 0.5817\n",
      "Epoch   0 Batch  180/269 - Train Accuracy: 0.6679, Validation Accuracy: 0.6538, Loss: 0.5532\n",
      "Epoch   0 Batch  190/269 - Train Accuracy: 0.6497, Validation Accuracy: 0.6705, Loss: 0.5159\n",
      "Epoch   0 Batch  200/269 - Train Accuracy: 0.6691, Validation Accuracy: 0.6768, Loss: 0.5175\n",
      "Epoch   0 Batch  210/269 - Train Accuracy: 0.6882, Validation Accuracy: 0.6764, Loss: 0.4680\n",
      "Epoch   0 Batch  220/269 - Train Accuracy: 0.7001, Validation Accuracy: 0.6848, Loss: 0.4306\n",
      "Epoch   0 Batch  230/269 - Train Accuracy: 0.7044, Validation Accuracy: 0.7053, Loss: 0.4297\n",
      "Epoch   0 Batch  240/269 - Train Accuracy: 0.7396, Validation Accuracy: 0.7092, Loss: 0.3658\n",
      "Epoch   0 Batch  250/269 - Train Accuracy: 0.7192, Validation Accuracy: 0.7090, Loss: 0.3871\n",
      "Epoch   0 Batch  260/269 - Train Accuracy: 0.7079, Validation Accuracy: 0.7322, Loss: 0.3725\n",
      "Epoch   1 Batch   10/269 - Train Accuracy: 0.7641, Validation Accuracy: 0.7432, Loss: 0.3173\n",
      "Epoch   1 Batch   20/269 - Train Accuracy: 0.7706, Validation Accuracy: 0.7677, Loss: 0.3005\n",
      "Epoch   1 Batch   30/269 - Train Accuracy: 0.7826, Validation Accuracy: 0.7594, Loss: 0.2640\n",
      "Epoch   1 Batch   40/269 - Train Accuracy: 0.7840, Validation Accuracy: 0.7687, Loss: 0.2518\n",
      "Epoch   1 Batch   50/269 - Train Accuracy: 0.7883, Validation Accuracy: 0.8065, Loss: 0.2347\n",
      "Epoch   1 Batch   60/269 - Train Accuracy: 0.8053, Validation Accuracy: 0.8048, Loss: 0.1975\n",
      "Epoch   1 Batch   70/269 - Train Accuracy: 0.8472, Validation Accuracy: 0.8271, Loss: 0.1875\n",
      "Epoch   1 Batch   80/269 - Train Accuracy: 0.8545, Validation Accuracy: 0.8509, Loss: 0.1618\n",
      "Epoch   1 Batch   90/269 - Train Accuracy: 0.8488, Validation Accuracy: 0.8375, Loss: 0.1645\n",
      "Epoch   1 Batch  100/269 - Train Accuracy: 0.8874, Validation Accuracy: 0.8685, Loss: 0.1400\n",
      "Epoch   1 Batch  110/269 - Train Accuracy: 0.8809, Validation Accuracy: 0.8669, Loss: 0.1261\n",
      "Epoch   1 Batch  120/269 - Train Accuracy: 0.8843, Validation Accuracy: 0.8927, Loss: 0.1245\n",
      "Epoch   1 Batch  130/269 - Train Accuracy: 0.8983, Validation Accuracy: 0.8918, Loss: 0.1160\n",
      "Epoch   1 Batch  140/269 - Train Accuracy: 0.8868, Validation Accuracy: 0.9029, Loss: 0.1146\n",
      "Epoch   1 Batch  150/269 - Train Accuracy: 0.9031, Validation Accuracy: 0.9062, Loss: 0.0997\n",
      "Epoch   1 Batch  160/269 - Train Accuracy: 0.9176, Validation Accuracy: 0.9141, Loss: 0.0893\n",
      "Epoch   1 Batch  170/269 - Train Accuracy: 0.9010, Validation Accuracy: 0.9092, Loss: 0.0822\n",
      "Epoch   1 Batch  180/269 - Train Accuracy: 0.9159, Validation Accuracy: 0.9217, Loss: 0.0820\n",
      "Epoch   1 Batch  190/269 - Train Accuracy: 0.9217, Validation Accuracy: 0.9266, Loss: 0.0777\n",
      "Epoch   1 Batch  200/269 - Train Accuracy: 0.9006, Validation Accuracy: 0.9192, Loss: 0.0756\n",
      "Epoch   1 Batch  210/269 - Train Accuracy: 0.9171, Validation Accuracy: 0.9260, Loss: 0.0668\n",
      "Epoch   1 Batch  220/269 - Train Accuracy: 0.9164, Validation Accuracy: 0.9242, Loss: 0.0627\n",
      "Epoch   1 Batch  230/269 - Train Accuracy: 0.9291, Validation Accuracy: 0.9288, Loss: 0.0648\n",
      "Epoch   1 Batch  240/269 - Train Accuracy: 0.9293, Validation Accuracy: 0.9202, Loss: 0.0580\n",
      "Epoch   1 Batch  250/269 - Train Accuracy: 0.9440, Validation Accuracy: 0.9165, Loss: 0.0589\n",
      "Epoch   1 Batch  260/269 - Train Accuracy: 0.9264, Validation Accuracy: 0.9313, Loss: 0.0606\n",
      "Epoch   2 Batch   10/269 - Train Accuracy: 0.9309, Validation Accuracy: 0.9292, Loss: 0.0490\n",
      "Epoch   2 Batch   20/269 - Train Accuracy: 0.9293, Validation Accuracy: 0.9361, Loss: 0.0536\n",
      "Epoch   2 Batch   30/269 - Train Accuracy: 0.9371, Validation Accuracy: 0.9289, Loss: 0.0533\n",
      "Epoch   2 Batch   40/269 - Train Accuracy: 0.9310, Validation Accuracy: 0.9316, Loss: 0.0546\n",
      "Epoch   2 Batch   50/269 - Train Accuracy: 0.9331, Validation Accuracy: 0.9300, Loss: 0.0555\n",
      "Epoch   2 Batch   60/269 - Train Accuracy: 0.9316, Validation Accuracy: 0.9392, Loss: 0.0452\n",
      "Epoch   2 Batch   70/269 - Train Accuracy: 0.9379, Validation Accuracy: 0.9306, Loss: 0.0472\n",
      "Epoch   2 Batch   80/269 - Train Accuracy: 0.9347, Validation Accuracy: 0.9313, Loss: 0.0452\n",
      "Epoch   2 Batch   90/269 - Train Accuracy: 0.9463, Validation Accuracy: 0.9334, Loss: 0.0457\n",
      "Epoch   2 Batch  100/269 - Train Accuracy: 0.9500, Validation Accuracy: 0.9477, Loss: 0.0449\n",
      "Epoch   2 Batch  110/269 - Train Accuracy: 0.9417, Validation Accuracy: 0.9243, Loss: 0.0366\n",
      "Epoch   2 Batch  120/269 - Train Accuracy: 0.9439, Validation Accuracy: 0.9459, Loss: 0.0416\n",
      "Epoch   2 Batch  130/269 - Train Accuracy: 0.9584, Validation Accuracy: 0.9442, Loss: 0.0420\n",
      "Epoch   2 Batch  140/269 - Train Accuracy: 0.9452, Validation Accuracy: 0.9495, Loss: 0.0428\n",
      "Epoch   2 Batch  150/269 - Train Accuracy: 0.9481, Validation Accuracy: 0.9560, Loss: 0.0414\n",
      "Epoch   2 Batch  160/269 - Train Accuracy: 0.9567, Validation Accuracy: 0.9537, Loss: 0.0361\n",
      "Epoch   2 Batch  170/269 - Train Accuracy: 0.9460, Validation Accuracy: 0.9563, Loss: 0.0344\n",
      "Epoch   2 Batch  180/269 - Train Accuracy: 0.9524, Validation Accuracy: 0.9562, Loss: 0.0336\n",
      "Epoch   2 Batch  190/269 - Train Accuracy: 0.9472, Validation Accuracy: 0.9512, Loss: 0.0382\n",
      "Epoch   2 Batch  200/269 - Train Accuracy: 0.9588, Validation Accuracy: 0.9439, Loss: 0.0331\n",
      "Epoch   2 Batch  210/269 - Train Accuracy: 0.9476, Validation Accuracy: 0.9492, Loss: 0.0337\n",
      "Epoch   2 Batch  220/269 - Train Accuracy: 0.9481, Validation Accuracy: 0.9455, Loss: 0.0327\n",
      "Epoch   2 Batch  230/269 - Train Accuracy: 0.9524, Validation Accuracy: 0.9480, Loss: 0.0333\n",
      "Epoch   2 Batch  240/269 - Train Accuracy: 0.9450, Validation Accuracy: 0.9430, Loss: 0.0317\n",
      "Epoch   2 Batch  250/269 - Train Accuracy: 0.9501, Validation Accuracy: 0.9470, Loss: 0.0344\n",
      "Epoch   2 Batch  260/269 - Train Accuracy: 0.9517, Validation Accuracy: 0.9542, Loss: 0.0328\n",
      "Epoch   3 Batch   10/269 - Train Accuracy: 0.9494, Validation Accuracy: 0.9567, Loss: 0.0261\n",
      "Epoch   3 Batch   20/269 - Train Accuracy: 0.9506, Validation Accuracy: 0.9574, Loss: 0.0299\n",
      "Epoch   3 Batch   30/269 - Train Accuracy: 0.9575, Validation Accuracy: 0.9519, Loss: 0.0322\n",
      "Epoch   3 Batch   40/269 - Train Accuracy: 0.9519, Validation Accuracy: 0.9594, Loss: 0.0298\n",
      "Epoch   3 Batch   50/269 - Train Accuracy: 0.9530, Validation Accuracy: 0.9544, Loss: 0.0332\n",
      "Epoch   3 Batch   60/269 - Train Accuracy: 0.9607, Validation Accuracy: 0.9541, Loss: 0.0282\n",
      "Epoch   3 Batch   70/269 - Train Accuracy: 0.9628, Validation Accuracy: 0.9584, Loss: 0.0292\n",
      "Epoch   3 Batch   80/269 - Train Accuracy: 0.9609, Validation Accuracy: 0.9464, Loss: 0.0278\n",
      "Epoch   3 Batch   90/269 - Train Accuracy: 0.9558, Validation Accuracy: 0.9646, Loss: 0.0289\n",
      "Epoch   3 Batch  100/269 - Train Accuracy: 0.9566, Validation Accuracy: 0.9606, Loss: 0.0296\n",
      "Epoch   3 Batch  110/269 - Train Accuracy: 0.9693, Validation Accuracy: 0.9609, Loss: 0.0233\n",
      "Epoch   3 Batch  120/269 - Train Accuracy: 0.9560, Validation Accuracy: 0.9596, Loss: 0.0263\n",
      "Epoch   3 Batch  130/269 - Train Accuracy: 0.9652, Validation Accuracy: 0.9533, Loss: 0.0261\n",
      "Epoch   3 Batch  140/269 - Train Accuracy: 0.9609, Validation Accuracy: 0.9678, Loss: 0.0282\n",
      "Epoch   3 Batch  150/269 - Train Accuracy: 0.9638, Validation Accuracy: 0.9591, Loss: 0.0279\n",
      "Epoch   3 Batch  160/269 - Train Accuracy: 0.9729, Validation Accuracy: 0.9702, Loss: 0.0229\n",
      "Epoch   3 Batch  170/269 - Train Accuracy: 0.9625, Validation Accuracy: 0.9689, Loss: 0.0237\n",
      "Epoch   3 Batch  180/269 - Train Accuracy: 0.9667, Validation Accuracy: 0.9640, Loss: 0.0224\n",
      "Epoch   3 Batch  190/269 - Train Accuracy: 0.9618, Validation Accuracy: 0.9641, Loss: 0.0265\n",
      "Epoch   3 Batch  200/269 - Train Accuracy: 0.9708, Validation Accuracy: 0.9636, Loss: 0.0209\n",
      "Epoch   3 Batch  210/269 - Train Accuracy: 0.9635, Validation Accuracy: 0.9553, Loss: 0.0226\n",
      "Epoch   3 Batch  220/269 - Train Accuracy: 0.9639, Validation Accuracy: 0.9657, Loss: 0.0227\n",
      "Epoch   3 Batch  230/269 - Train Accuracy: 0.9592, Validation Accuracy: 0.9709, Loss: 0.0236\n",
      "Epoch   3 Batch  240/269 - Train Accuracy: 0.9600, Validation Accuracy: 0.9561, Loss: 0.0227\n",
      "Epoch   3 Batch  250/269 - Train Accuracy: 0.9668, Validation Accuracy: 0.9597, Loss: 0.0235\n",
      "Epoch   3 Batch  260/269 - Train Accuracy: 0.9614, Validation Accuracy: 0.9556, Loss: 0.0237\n",
      "Epoch   4 Batch   10/269 - Train Accuracy: 0.9664, Validation Accuracy: 0.9618, Loss: 0.0203\n",
      "Epoch   4 Batch   20/269 - Train Accuracy: 0.9638, Validation Accuracy: 0.9627, Loss: 0.0213\n",
      "Epoch   4 Batch   30/269 - Train Accuracy: 0.9624, Validation Accuracy: 0.9664, Loss: 0.0242\n",
      "Epoch   4 Batch   40/269 - Train Accuracy: 0.9659, Validation Accuracy: 0.9655, Loss: 0.0228\n",
      "Epoch   4 Batch   50/269 - Train Accuracy: 0.9573, Validation Accuracy: 0.9616, Loss: 0.0274\n",
      "Epoch   4 Batch   60/269 - Train Accuracy: 0.9749, Validation Accuracy: 0.9631, Loss: 0.0222\n",
      "Epoch   4 Batch   70/269 - Train Accuracy: 0.9709, Validation Accuracy: 0.9660, Loss: 0.0206\n",
      "Epoch   4 Batch   80/269 - Train Accuracy: 0.9657, Validation Accuracy: 0.9655, Loss: 0.0221\n",
      "Epoch   4 Batch   90/269 - Train Accuracy: 0.9649, Validation Accuracy: 0.9585, Loss: 0.0231\n",
      "Epoch   4 Batch  100/269 - Train Accuracy: 0.9695, Validation Accuracy: 0.9592, Loss: 0.0241\n",
      "Epoch   4 Batch  110/269 - Train Accuracy: 0.9615, Validation Accuracy: 0.9494, Loss: 0.0184\n",
      "Epoch   4 Batch  120/269 - Train Accuracy: 0.9672, Validation Accuracy: 0.9593, Loss: 0.0216\n",
      "Epoch   4 Batch  130/269 - Train Accuracy: 0.9654, Validation Accuracy: 0.9474, Loss: 0.0218\n",
      "Epoch   4 Batch  140/269 - Train Accuracy: 0.9634, Validation Accuracy: 0.9677, Loss: 0.0227\n",
      "Epoch   4 Batch  150/269 - Train Accuracy: 0.9697, Validation Accuracy: 0.9586, Loss: 0.0226\n",
      "Epoch   4 Batch  160/269 - Train Accuracy: 0.9794, Validation Accuracy: 0.9713, Loss: 0.0187\n",
      "Epoch   4 Batch  170/269 - Train Accuracy: 0.9649, Validation Accuracy: 0.9622, Loss: 0.0194\n",
      "Epoch   4 Batch  180/269 - Train Accuracy: 0.9728, Validation Accuracy: 0.9688, Loss: 0.0182\n",
      "Epoch   4 Batch  190/269 - Train Accuracy: 0.9666, Validation Accuracy: 0.9664, Loss: 0.0231\n",
      "Epoch   4 Batch  200/269 - Train Accuracy: 0.9745, Validation Accuracy: 0.9662, Loss: 0.0156\n",
      "Epoch   4 Batch  210/269 - Train Accuracy: 0.9642, Validation Accuracy: 0.9614, Loss: 0.0172\n",
      "Epoch   4 Batch  220/269 - Train Accuracy: 0.9732, Validation Accuracy: 0.9632, Loss: 0.0178\n",
      "Epoch   4 Batch  230/269 - Train Accuracy: 0.9643, Validation Accuracy: 0.9713, Loss: 0.0190\n",
      "Epoch   4 Batch  240/269 - Train Accuracy: 0.9677, Validation Accuracy: 0.9622, Loss: 0.0194\n",
      "Epoch   4 Batch  250/269 - Train Accuracy: 0.9632, Validation Accuracy: 0.9603, Loss: 0.0211\n",
      "Epoch   4 Batch  260/269 - Train Accuracy: 0.9731, Validation Accuracy: 0.9663, Loss: 0.0199\n",
      "Model Trained and Saved\n"
     ]
    }
   ],
   "source": [
    "\"\"\"\n",
    "DON'T MODIFY ANYTHING IN THIS CELL\n",
    "\"\"\"\n",
    "def get_accuracy(target, logits):\n",
    "    \"\"\"\n",
    "    Calculate accuracy\n",
    "    \"\"\"\n",
    "    max_seq = max(target.shape[1], logits.shape[1])\n",
    "    if max_seq - target.shape[1]:\n",
    "        target = np.pad(\n",
    "            target,\n",
    "            [(0,0),(0,max_seq - target.shape[1])],\n",
    "            'constant')\n",
    "    if max_seq - logits.shape[1]:\n",
    "        logits = np.pad(\n",
    "            logits,\n",
    "            [(0,0),(0,max_seq - logits.shape[1])],\n",
    "            'constant')\n",
    "\n",
    "    return np.mean(np.equal(target, logits))\n",
    "\n",
    "# Split data to training and validation sets\n",
    "train_source = source_int_text[batch_size:]\n",
    "train_target = target_int_text[batch_size:]\n",
    "valid_source = source_int_text[:batch_size]\n",
    "valid_target = target_int_text[:batch_size]\n",
    "(valid_sources_batch, valid_targets_batch, valid_sources_lengths, valid_targets_lengths ) = next(get_batches(valid_source,\n",
    "                                                                                                             valid_target,\n",
    "                                                                                                             batch_size,\n",
    "                                                                                                             source_vocab_to_int['<PAD>'],\n",
    "                                                                                                             target_vocab_to_int['<PAD>']))                                                                                                  \n",
    "with tf.Session(graph=train_graph) as sess:\n",
    "    sess.run(tf.global_variables_initializer())\n",
    "\n",
    "    for epoch_i in range(epochs):\n",
    "        for batch_i, (source_batch, target_batch, sources_lengths, targets_lengths) in enumerate(\n",
    "                get_batches(train_source, train_target, batch_size,\n",
    "                            source_vocab_to_int['<PAD>'],\n",
    "                            target_vocab_to_int['<PAD>'])):\n",
    "\n",
    "            _, loss = sess.run(\n",
    "                [train_op, cost],\n",
    "                {input_data: source_batch,\n",
    "                 targets: target_batch,\n",
    "                 lr: learning_rate,\n",
    "                 target_sequence_length: targets_lengths,\n",
    "                 source_sequence_length: sources_lengths,\n",
    "                 keep_prob: keep_probability})\n",
    "\n",
    "\n",
    "            if batch_i % display_step == 0 and batch_i > 0:\n",
    "\n",
    "\n",
    "                batch_train_logits = sess.run(\n",
    "                    inference_logits,\n",
    "                    {input_data: source_batch,\n",
    "                     source_sequence_length: sources_lengths,\n",
    "                     target_sequence_length: targets_lengths,\n",
    "                     keep_prob: 1.0})\n",
    "\n",
    "\n",
    "                batch_valid_logits = sess.run(\n",
    "                    inference_logits,\n",
    "                    {input_data: valid_sources_batch,\n",
    "                     source_sequence_length: valid_sources_lengths,\n",
    "                     target_sequence_length: valid_targets_lengths,\n",
    "                     keep_prob: 1.0})\n",
    "\n",
    "                train_acc = get_accuracy(target_batch, batch_train_logits)\n",
    "\n",
    "                valid_acc = get_accuracy(valid_targets_batch, batch_valid_logits)\n",
    "\n",
    "                print('Epoch {:>3} Batch {:>4}/{} - Train Accuracy: {:>6.4f}, Validation Accuracy: {:>6.4f}, Loss: {:>6.4f}'\n",
    "                      .format(epoch_i, batch_i, len(source_int_text) // batch_size, train_acc, valid_acc, loss))\n",
    "\n",
    "    # Save Model\n",
    "    saver = tf.train.Saver()\n",
    "    saver.save(sess, save_path)\n",
    "    print('Model Trained and Saved')"
   ]
  },
  {
   "cell_type": "markdown",
   "metadata": {},
   "source": [
    "### Save Parameters\n",
    "Save the `batch_size` and `save_path` parameters for inference."
   ]
  },
  {
   "cell_type": "code",
   "execution_count": 66,
   "metadata": {
    "collapsed": true
   },
   "outputs": [],
   "source": [
    "\"\"\"\n",
    "DON'T MODIFY ANYTHING IN THIS CELL\n",
    "\"\"\"\n",
    "# Save parameters for checkpoint\n",
    "helper.save_params(save_path)"
   ]
  },
  {
   "cell_type": "markdown",
   "metadata": {},
   "source": [
    "# Checkpoint"
   ]
  },
  {
   "cell_type": "code",
   "execution_count": 67,
   "metadata": {
    "collapsed": false
   },
   "outputs": [],
   "source": [
    "\"\"\"\n",
    "DON'T MODIFY ANYTHING IN THIS CELL\n",
    "\"\"\"\n",
    "import tensorflow as tf\n",
    "import numpy as np\n",
    "import helper\n",
    "import problem_unittests as tests\n",
    "\n",
    "_, (source_vocab_to_int, target_vocab_to_int), (source_int_to_vocab, target_int_to_vocab) = helper.load_preprocess()\n",
    "load_path = helper.load_params()"
   ]
  },
  {
   "cell_type": "markdown",
   "metadata": {},
   "source": [
    "## Sentence to Sequence\n",
    "To feed a sentence into the model for translation, you first need to preprocess it.  Implement the function `sentence_to_seq()` to preprocess new sentences.\n",
    "\n",
    "- Convert the sentence to lowercase\n",
    "- Convert words into ids using `vocab_to_int`\n",
    " - Convert words not in the vocabulary, to the `<UNK>` word id."
   ]
  },
  {
   "cell_type": "code",
   "execution_count": 68,
   "metadata": {
    "collapsed": false
   },
   "outputs": [
    {
     "name": "stdout",
     "output_type": "stream",
     "text": [
      "['this', 'is', 'a', 'test', 'sentence']\n",
      "Tests Passed\n"
     ]
    }
   ],
   "source": [
    "def sentence_to_seq(sentence, vocab_to_int):\n",
    "    \"\"\"\n",
    "    Convert a sentence to a sequence of ids\n",
    "    :param sentence: String\n",
    "    :param vocab_to_int: Dictionary to go from the words to an id\n",
    "    :return: List of word ids\n",
    "    \"\"\"\n",
    "    # TODO: Implement Function\n",
    "    \n",
    "    #convert sentence to lowercase\n",
    "    sentence_lower=sentence.lower().split()\n",
    "    print(sentence_lower)\n",
    "    sentence_seq=[vocab_to_int.get(word,vocab_to_int.get('<UNK>')) for word in sentence_lower]\n",
    "    return sentence_seq\n",
    "\n",
    "\n",
    "\n",
    "\"\"\"\n",
    "DON'T MODIFY ANYTHING IN THIS CELL THAT IS BELOW THIS LINE\n",
    "\"\"\"\n",
    "tests.test_sentence_to_seq(sentence_to_seq)"
   ]
  },
  {
   "cell_type": "markdown",
   "metadata": {},
   "source": [
    "## Translate\n",
    "This will translate `translate_sentence` from English to French."
   ]
  },
  {
   "cell_type": "code",
   "execution_count": 69,
   "metadata": {
    "collapsed": false
   },
   "outputs": [
    {
     "name": "stdout",
     "output_type": "stream",
     "text": [
      "['he', 'saw', 'a', 'old', 'yellow', 'truck', '.']\n",
      "INFO:tensorflow:Restoring parameters from checkpoints/dev\n",
      "Input\n",
      "  Word Ids:      [103, 40, 36, 30, 138, 206, 159]\n",
      "  English Words: ['he', 'saw', 'a', 'old', 'yellow', 'truck', '.']\n",
      "\n",
      "Prediction\n",
      "  Word Ids:      [338, 110, 67, 145, 124, 136, 127, 153, 1]\n",
      "  French Words: il a vu un vieux camion poires . <EOS>\n"
     ]
    }
   ],
   "source": [
    "translate_sentence = 'he saw a old yellow truck .'\n",
    "\n",
    "\n",
    "\"\"\"\n",
    "DON'T MODIFY ANYTHING IN THIS CELL\n",
    "\"\"\"\n",
    "translate_sentence = sentence_to_seq(translate_sentence, source_vocab_to_int)\n",
    "\n",
    "loaded_graph = tf.Graph()\n",
    "with tf.Session(graph=loaded_graph) as sess:\n",
    "    # Load saved model\n",
    "    loader = tf.train.import_meta_graph(load_path + '.meta')\n",
    "    loader.restore(sess, load_path)\n",
    "\n",
    "    input_data = loaded_graph.get_tensor_by_name('input:0')\n",
    "    logits = loaded_graph.get_tensor_by_name('predictions:0')\n",
    "    target_sequence_length = loaded_graph.get_tensor_by_name('target_sequence_length:0')\n",
    "    source_sequence_length = loaded_graph.get_tensor_by_name('source_sequence_length:0')\n",
    "    keep_prob = loaded_graph.get_tensor_by_name('keep_prob:0')\n",
    "\n",
    "    translate_logits = sess.run(logits, {input_data: [translate_sentence]*batch_size,\n",
    "                                         target_sequence_length: [len(translate_sentence)*2]*batch_size,\n",
    "                                         source_sequence_length: [len(translate_sentence)]*batch_size,\n",
    "                                         keep_prob: 1.0})[0]\n",
    "\n",
    "print('Input')\n",
    "print('  Word Ids:      {}'.format([i for i in translate_sentence]))\n",
    "print('  English Words: {}'.format([source_int_to_vocab[i] for i in translate_sentence]))\n",
    "\n",
    "print('\\nPrediction')\n",
    "print('  Word Ids:      {}'.format([i for i in translate_logits]))\n",
    "print('  French Words: {}'.format(\" \".join([target_int_to_vocab[i] for i in translate_logits])))\n"
   ]
  },
  {
   "cell_type": "markdown",
   "metadata": {},
   "source": [
    "## Imperfect Translation\n",
    "You might notice that some sentences translate better than others.  Since the dataset you're using only has a vocabulary of 227 English words of the thousands that you use, you're only going to see good results using these words.  For this project, you don't need a perfect translation. However, if you want to create a better translation model, you'll need better data.\n",
    "\n",
    "You can train on the [WMT10 French-English corpus](http://www.statmt.org/wmt10/training-giga-fren.tar).  This dataset has more vocabulary and richer in topics discussed.  However, this will take you days to train, so make sure you've a GPU and the neural network is performing well on dataset we provided.  Just make sure you play with the WMT10 corpus after you've submitted this project.\n",
    "## Submitting This Project\n",
    "When submitting this project, make sure to run all the cells before saving the notebook. Save the notebook file as \"dlnd_language_translation.ipynb\" and save it as a HTML file under \"File\" -> \"Download as\". Include the \"helper.py\" and \"problem_unittests.py\" files in your submission."
   ]
  }
 ],
 "metadata": {
  "anaconda-cloud": {},
  "kernelspec": {
   "display_name": "Python 3",
   "language": "python",
   "name": "python3"
  },
  "language_info": {
   "codemirror_mode": {
    "name": "ipython",
    "version": 3
   },
   "file_extension": ".py",
   "mimetype": "text/x-python",
   "name": "python",
   "nbconvert_exporter": "python",
   "pygments_lexer": "ipython3",
   "version": "3.5.4"
  }
 },
 "nbformat": 4,
 "nbformat_minor": 1
}
